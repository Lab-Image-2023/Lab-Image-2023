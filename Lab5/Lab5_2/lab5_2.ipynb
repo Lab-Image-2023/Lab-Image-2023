{
 "cells": [
  {
   "cell_type": "markdown",
   "metadata": {},
   "source": [
    "# 5.2 IMAGE AUGMENTATION USING KERAS IMAGEDATAGENERATOR"
   ]
  },
  {
   "cell_type": "code",
   "execution_count": null,
   "metadata": {},
   "outputs": [],
   "source": [
    "import cv2\n",
    "import numpy as np\n",
    "from keras.preprocessing.image import ImageDataGenerator\n",
    "\n",
    "# Read image\n",
    "image = cv2.imread(\"Aaron_Guiel_0001.jpg\")\n",
    "\n",
    "# Define fill_mode in the correct format\n",
    "fill_mode = ['constant', 'nearest', 'reflect', 'wrap']\n",
    "\n",
    "# Define parameters\n",
    "Npic = 100\n",
    "rotation_range = 30\n",
    "width_shift_range = 0.2\n",
    "height_shift_range = 0.2\n",
    "shear_range = 0.2\n",
    "zoom_range = 0.2\n",
    "horizontal_flip = True\n",
    "\n",
    "# Prepare Gaussian Noise Function\n",
    "def add_gaussian_noise(image, noise_factor=0.3, noise_mean=0, noise_std=0.1):\n",
    "    noise = noise_factor * np.random.normal(loc=noise_mean, scale=noise_std, size=image.shape)\n",
    "    img_noisy = image + noise\n",
    "    img_noisy = np.clip(img_noisy, 0, 255).astype(np.uint8)\n",
    "    return img_noisy\n",
    "\n",
    "height, width, layers = image.shape\n",
    "size = (width, height)\n",
    "fourcc = cv2.VideoWriter_fourcc(*'mp4v')\n",
    "out = cv2.VideoWriter('lab5.mp4', fourcc, 1, size)\n",
    "\n",
    "# Define ImageDataGenerator with parameters\n",
    "for m in fill_mode:\n",
    "    datagen = ImageDataGenerator(rotation_range=rotation_range,\n",
    "                                width_shift_range=width_shift_range,\n",
    "                                height_shift_range=height_shift_range,\n",
    "                                shear_range=shear_range,\n",
    "                                zoom_range=zoom_range,\n",
    "                                horizontal_flip=horizontal_flip,\n",
    "                                preprocessing_function=lambda x: add_gaussian_noise(x, noise_factor=0.3),\n",
    "                                fill_mode=m)\n",
    "\n",
    "    # Create a batch of one image\n",
    "    pic = datagen.flow(np.expand_dims(image, axis=0), batch_size=1)\n",
    "\n",
    "    # Randomly generate transformed images and write to a video file\n",
    "    for i in range(1, Npic):\n",
    "        batch = pic.next()\n",
    "        im_result = batch[0].astype('uint8')\n",
    "        out.write(im_result)\n",
    "\n",
    "out.release()"
   ]
  }
 ],
 "metadata": {
  "language_info": {
   "name": "python"
  }
 },
 "nbformat": 4,
 "nbformat_minor": 2
}
